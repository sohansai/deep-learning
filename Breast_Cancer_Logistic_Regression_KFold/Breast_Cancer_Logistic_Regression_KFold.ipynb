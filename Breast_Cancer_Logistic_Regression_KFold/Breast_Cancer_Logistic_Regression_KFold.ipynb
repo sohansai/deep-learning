{
  "nbformat": 4,
  "nbformat_minor": 0,
  "metadata": {
    "colab": {
      "provenance": []
    },
    "kernelspec": {
      "name": "python3",
      "display_name": "Python 3"
    },
    "language_info": {
      "name": "python"
    }
  },
  "cells": [
    {
      "cell_type": "code",
      "source": [
        "# Import necessary libraries\n",
        "from sklearn.datasets import load_breast_cancer\n",
        "import pandas as pd\n",
        "from sklearn.linear_model import LogisticRegression\n",
        "from sklearn.model_selection import KFold\n",
        "from sklearn.metrics import accuracy_score\n",
        "\n",
        "# Load the breast cancer dataset as a pandas DataFrame\n",
        "data = load_breast_cancer(as_frame=True)\n",
        "df = data.frame\n",
        "\n",
        "# Separate the features (X) and target (Y)\n",
        "X = df.iloc[:, :-1]\n",
        "Y = df.iloc[:, -1]\n",
        "\n",
        "# Number of folds for k-fold cross-validation\n",
        "k = 5\n",
        "\n",
        "# Create a k-fold cross-validation object\n",
        "k_fold = KFold(n_splits=k, random_state=None)\n",
        "\n",
        "# Initialize a Logistic Regression classifier\n",
        "Lr = LogisticRegression(solver='liblinear')\n",
        "\n",
        "# List to store accuracy scores for each fold\n",
        "acc_scores = []\n",
        "\n",
        "# Loop through each fold in the cross-validation\n",
        "for training_index, testing_index in k_fold.split(X):\n",
        "    # Split the data into training and testing sets for this fold\n",
        "    X_train, X_test = X.iloc[training_index, :], X.iloc[testing_index, :]\n",
        "    Y_train, Y_test = Y.iloc[training_index], Y.iloc[testing_index]\n",
        "\n",
        "    # Fit the Logistic Regression model on the training data\n",
        "    Lr.fit(X_train, Y_train)\n",
        "\n",
        "    # Make predictions on the testing data\n",
        "    Y_pred = Lr.predict(X_test)\n",
        "\n",
        "    # Calculate accuracy for this fold and add it to the list\n",
        "    acc = accuracy_score(Y_pred, Y_test)\n",
        "    acc_scores.append(acc)\n",
        "\n",
        "# Calculate the mean accuracy score across all folds\n",
        "mean_acc_score = sum(acc_scores) / k\n",
        "\n",
        "# Print the accuracy scores for each fold and the mean accuracy score\n",
        "print(\"Accuracy score of each fold: \", acc_scores)\n",
        "print(\"Mean accuracy score: \", mean_acc_score)"
      ],
      "metadata": {
        "colab": {
          "base_uri": "https://localhost:8080/"
        },
        "id": "kAkd5HRBwUJf",
        "outputId": "fb2f8af2-5595-49fa-8f1f-7d9663208126"
      },
      "execution_count": 1,
      "outputs": [
        {
          "output_type": "stream",
          "name": "stdout",
          "text": [
            "Accuracy score of each fold:  [0.9122807017543859, 0.9473684210526315, 0.9736842105263158, 0.9736842105263158, 0.9557522123893806]\n",
            "Mean accuracy score:  0.952553951249806\n"
          ]
        }
      ]
    }
  ]
}